{
 "cells": [
  {
   "cell_type": "markdown",
   "metadata": {},
   "source": [
    "# Import Library"
   ]
  },
  {
   "cell_type": "code",
   "execution_count": 1,
   "metadata": {
    "ExecuteTime": {
     "end_time": "2021-04-14T03:37:00.348669Z",
     "start_time": "2021-04-14T03:36:57.702070Z"
    }
   },
   "outputs": [],
   "source": [
    "import numpy as np\n",
    "import cv2\n",
    "from skimage.transform import resize\n",
    "from skimage import feature \n",
    "import matplotlib.pyplot as plt\n",
    "from PIL import Image\n",
    "from pathlib import Path\n",
    "import os\n",
    "import re"
   ]
  },
  {
   "cell_type": "code",
   "execution_count": 2,
   "metadata": {
    "ExecuteTime": {
     "end_time": "2021-04-14T05:18:08.450230Z",
     "start_time": "2021-04-14T05:18:08.405351Z"
    }
   },
   "outputs": [],
   "source": [
    "def get_pixel(img, center, x, y): \n",
    "    new_value = 0\n",
    "      \n",
    "    try: \n",
    "        # If local neighbourhood pixel  \n",
    "        # value is greater than or equal \n",
    "        # to center pixel values then  \n",
    "        # set it to 1 \n",
    "        if img[x][y] >= center: \n",
    "            new_value = 1\n",
    "              \n",
    "    except: \n",
    "        # Exception is required when  \n",
    "        # neighbourhood value of a center \n",
    "        # pixel value is null i.e. values \n",
    "        # present at boundaries. \n",
    "        pass\n",
    "      \n",
    "    return new_value \n",
    "   \n",
    "# Function for calculating LBP \n",
    "def lbp_calculated_pixel(img, x, y): \n",
    "   \n",
    "    center = img[x][y] \n",
    "   \n",
    "    val_ar = [] \n",
    "      \n",
    "    # top_left \n",
    "    val_ar.append(get_pixel(img, center, x-1, y-1)) \n",
    "      \n",
    "    # top \n",
    "    val_ar.append(get_pixel(img, center, x-1, y)) \n",
    "      \n",
    "    # top_right \n",
    "    val_ar.append(get_pixel(img, center, x-1, y + 1)) \n",
    "      \n",
    "    # right \n",
    "    val_ar.append(get_pixel(img, center, x, y + 1)) \n",
    "      \n",
    "    # bottom_right \n",
    "    val_ar.append(get_pixel(img, center, x + 1, y + 1)) \n",
    "      \n",
    "    # bottom \n",
    "    val_ar.append(get_pixel(img, center, x + 1, y)) \n",
    "      \n",
    "    # bottom_left \n",
    "    val_ar.append(get_pixel(img, center, x + 1, y-1)) \n",
    "      \n",
    "    # left \n",
    "    val_ar.append(get_pixel(img, center, x, y-1)) \n",
    "       \n",
    "    # Now, we need to convert binary \n",
    "    # values to decimal \n",
    "    power_val = [1, 2, 4, 8, 16, 32, 64, 128] \n",
    "   \n",
    "    val = 0\n",
    "      \n",
    "    for i in range(len(val_ar)): \n",
    "        val += val_ar[i] * power_val[i] \n",
    "          \n",
    "    return val"
   ]
  },
  {
   "cell_type": "code",
   "execution_count": 3,
   "metadata": {
    "ExecuteTime": {
     "end_time": "2021-04-14T05:18:13.172605Z",
     "start_time": "2021-04-14T05:18:12.962169Z"
    }
   },
   "outputs": [
    {
     "name": "stdout",
     "output_type": "stream",
     "text": [
      "positive image extensions: {'.jpg'}\n",
      "negative image extensions: {'.jpg'}\n"
     ]
    }
   ],
   "source": [
    "# determine extension of images\n",
    "## brain tumor positive images\n",
    "path = 'brain_tumor_dataset/brain_mri/yes'\n",
    "# path = 'brain_tumor_dataset/otak/yes'\n",
    "ext_set = set()\n",
    "for child in Path(path).iterdir():\n",
    "    ext = Path(child).suffix\n",
    "    ext_set.add(ext)\n",
    "print(f'positive image extensions: {ext_set}')\n",
    "\n",
    "## brain tumor negative images\n",
    "path = 'brain_tumor_dataset/brain_mri/no'\n",
    "# path = 'brain_tumor_dataset/otak/no'\n",
    "\n",
    "ext_set = set()\n",
    "for child in Path(path).iterdir():\n",
    "    ext = Path(child).suffix\n",
    "    ext_set.add(ext)\n",
    "print(f'negative image extensions: {ext_set}')"
   ]
  },
  {
   "cell_type": "code",
   "execution_count": 4,
   "metadata": {
    "ExecuteTime": {
     "end_time": "2021-04-14T05:18:15.240081Z",
     "start_time": "2021-04-14T05:18:15.226117Z"
    }
   },
   "outputs": [
    {
     "name": "stdout",
     "output_type": "stream",
     "text": [
      "Brain Tumor Positive images: 555\n",
      "Brain Tumor Negative images: 335\n"
     ]
    }
   ],
   "source": [
    "## postive\n",
    "path = 'brain_tumor_dataset/brain_mri/yes'\n",
    "# path = 'brain_tumor_dataset/otak/yes'\n",
    "\n",
    "pos_li = list(Path(path).glob('*.jpg'))\n",
    "\n",
    "## negative\n",
    "path = 'brain_tumor_dataset/brain_mri/no'\n",
    "# path = 'brain_tumor_dataset/otak/no'\n",
    "\n",
    "neg_li = list(Path(path).glob('*.jpg'))\n",
    "# neg_li.extend(list(Path(path).glob('*.jpg')))\n",
    "\n",
    "# display number of images\n",
    "print(f'Brain Tumor Positive images: {len(pos_li)}\\nBrain Tumor Negative images: {len(neg_li)}')"
   ]
  },
  {
   "cell_type": "code",
   "execution_count": 11,
   "metadata": {
    "ExecuteTime": {
     "end_time": "2021-04-14T04:19:58.323701Z",
     "start_time": "2021-04-14T04:19:58.319711Z"
    },
    "scrolled": true
   },
   "outputs": [],
   "source": [
    "# imaa = cv2.imread(str(pos_li[0]))\n",
    "# gray = cv2.cvtColor(imaa,cv2.COLOR_BGR2RGB)\n",
    "# cv2.imshow(\"Sda\",imaa)\n",
    "# cv2.waitKey(0) # waits until a key is pressed\n",
    "# cv2.destroyAllWindows() # destroys the window showing image\n",
    "# print(gray)\n",
    "# imaa.shape"
   ]
  },
  {
   "cell_type": "code",
   "execution_count": 5,
   "metadata": {
    "ExecuteTime": {
     "end_time": "2021-04-14T05:18:18.710800Z",
     "start_time": "2021-04-14T05:18:18.680880Z"
    }
   },
   "outputs": [],
   "source": [
    "# create numpy array placeholder for pixels with 1 channel (grey scale)\n",
    "IMG_SIZE = 300\n",
    "pos_data = np.empty((len(pos_li), IMG_SIZE, IMG_SIZE, 1), dtype=np.float32)\n",
    "neg_data = np.empty((len(neg_li), IMG_SIZE, IMG_SIZE, 1), dtype=np.float32)\n",
    "# ^ float data type must be used to save precise pixel values"
   ]
  },
  {
   "cell_type": "code",
   "execution_count": 6,
   "metadata": {
    "ExecuteTime": {
     "end_time": "2021-04-14T05:18:56.065352Z",
     "start_time": "2021-04-14T05:18:23.085108Z"
    }
   },
   "outputs": [],
   "source": [
    "# convert images to numpy arrays\n",
    "## positive\n",
    "for i, img_path in enumerate(sorted(pos_li)):\n",
    "    # load image\n",
    "    img = cv2.imread(str(img_path))\n",
    "    # convert BGR to RGB (since CV2 reads in BGR)\n",
    "    img = cv2.cvtColor(img,cv2.COLOR_BGR2RGB)\n",
    "    # resize image with 1 channel\n",
    "    img = resize(img, output_shape=(IMG_SIZE, IMG_SIZE, 1), preserve_range=True)\n",
    "    # save to x_data\n",
    "    pos_data[i] = img\n",
    "## negative\n",
    "for i, img_path in enumerate(sorted(neg_li)):\n",
    "    # load image\n",
    "    img = cv2.imread(str(img_path))\n",
    "    # convert BGR to RGB (since CV2 reads in BGR)\n",
    "    img = cv2.cvtColor(img,cv2.COLOR_BGR2RGB)\n",
    "    # resize image with 1 channel\n",
    "    img = resize(img, output_shape=(IMG_SIZE, IMG_SIZE, 1), preserve_range=True)\n",
    "    # save to x_data\n",
    "    neg_data[i] = img"
   ]
  },
  {
   "cell_type": "code",
   "execution_count": 7,
   "metadata": {
    "ExecuteTime": {
     "end_time": "2021-04-14T05:18:56.119751Z",
     "start_time": "2021-04-14T05:18:56.112769Z"
    }
   },
   "outputs": [
    {
     "name": "stdout",
     "output_type": "stream",
     "text": [
      "[[[0.]\n",
      "  [0.]\n",
      "  [0.]\n",
      "  ...\n",
      "  [0.]\n",
      "  [0.]\n",
      "  [0.]]\n",
      "\n",
      " [[0.]\n",
      "  [0.]\n",
      "  [0.]\n",
      "  ...\n",
      "  [0.]\n",
      "  [0.]\n",
      "  [0.]]\n",
      "\n",
      " [[0.]\n",
      "  [0.]\n",
      "  [0.]\n",
      "  ...\n",
      "  [0.]\n",
      "  [0.]\n",
      "  [0.]]\n",
      "\n",
      " ...\n",
      "\n",
      " [[0.]\n",
      "  [0.]\n",
      "  [0.]\n",
      "  ...\n",
      "  [0.]\n",
      "  [0.]\n",
      "  [0.]]\n",
      "\n",
      " [[0.]\n",
      "  [0.]\n",
      "  [0.]\n",
      "  ...\n",
      "  [0.]\n",
      "  [0.]\n",
      "  [0.]]\n",
      "\n",
      " [[0.]\n",
      "  [0.]\n",
      "  [0.]\n",
      "  ...\n",
      "  [0.]\n",
      "  [0.]\n",
      "  [0.]]]\n"
     ]
    }
   ],
   "source": [
    "print(pos_data[0])"
   ]
  },
  {
   "cell_type": "code",
   "execution_count": 8,
   "metadata": {
    "ExecuteTime": {
     "end_time": "2021-04-14T05:18:56.329191Z",
     "start_time": "2021-04-14T05:18:56.176598Z"
    }
   },
   "outputs": [],
   "source": [
    "# scale image arrays\n",
    "pos_data /= 255\n",
    "neg_data /= 255"
   ]
  },
  {
   "cell_type": "code",
   "execution_count": 9,
   "metadata": {
    "ExecuteTime": {
     "end_time": "2021-04-14T05:18:56.414962Z",
     "start_time": "2021-04-14T05:18:56.402994Z"
    }
   },
   "outputs": [
    {
     "data": {
      "text/plain": [
       "0.9506222"
      ]
     },
     "execution_count": 9,
     "metadata": {},
     "output_type": "execute_result"
    }
   ],
   "source": [
    "pos_data[0].max()"
   ]
  },
  {
   "cell_type": "code",
   "execution_count": 10,
   "metadata": {
    "ExecuteTime": {
     "end_time": "2021-04-14T05:18:56.525668Z",
     "start_time": "2021-04-14T05:18:56.460839Z"
    }
   },
   "outputs": [],
   "source": [
    "#make directory for LBP image\n",
    "lbp = ['LBP_yes', 'LBP_no']\n",
    "try:\n",
    "    os.mkdir('brain_tumor_dataset/preprocess')\n",
    "    os.mkdir('brain_tumor_dataset/preprocess/data_LBP/')\n",
    "    for x in lbp:\n",
    "      os.mkdir('brain_tumor_dataset/preprocess/data_LBP/'+x)\n",
    "except OSError:\n",
    "    # pass\n",
    "    print('not run')\n"
   ]
  },
  {
   "cell_type": "code",
   "execution_count": 19,
   "metadata": {
    "ExecuteTime": {
     "end_time": "2021-04-14T04:21:01.653947Z",
     "start_time": "2021-04-14T04:21:01.595104Z"
    }
   },
   "outputs": [],
   "source": [
    "# # print(str(pos_li[0]))\n",
    "# newPath = str(pos_li[0]).split('\\\\')\n",
    "# # new\n",
    "# # fileLoc = \"data/LBP_COVID/\"+newPath[2]\n",
    "\n",
    "# newPath[2]"
   ]
  },
  {
   "cell_type": "code",
   "execution_count": 11,
   "metadata": {
    "ExecuteTime": {
     "end_time": "2021-04-14T05:29:18.469013Z",
     "start_time": "2021-04-14T05:18:56.580519Z"
    }
   },
   "outputs": [],
   "source": [
    "# LBP Positif\n",
    "for i, img_path in enumerate(sorted(pos_li)):\n",
    "    height, width, _ = pos_data[i].shape\n",
    "    # Create a numpy array as  \n",
    "    # the same height and width  \n",
    "    # of RGB image \n",
    "    img_lbp = np.zeros((height, width), \n",
    "                       np.uint8) \n",
    "    \n",
    "    for j in range(0, height): \n",
    "        for k in range(0, width): \n",
    "            img_lbp[j, k] = lbp_calculated_pixel(pos_data[i], j, k)\n",
    "    \n",
    "    newPath = str(pos_li[i]).split('\\\\')\n",
    "    fileLoc = \"brain_tumor_dataset/preprocess/data_LBP/LBP_yes/\"+newPath[3]\n",
    "    cv2.imwrite(fileLoc, img_lbp)"
   ]
  },
  {
   "cell_type": "code",
   "execution_count": 12,
   "metadata": {
    "ExecuteTime": {
     "end_time": "2021-04-14T05:36:42.023153Z",
     "start_time": "2021-04-14T05:29:18.509534Z"
    }
   },
   "outputs": [],
   "source": [
    "# LBP Negatif\n",
    "for i, img_path in enumerate(sorted(neg_li)):\n",
    "    height, width, _ = neg_data[i].shape\n",
    "    # Create a numpy array as  \n",
    "    # the same height and width  \n",
    "    # of RGB image \n",
    "    img_lbp = np.zeros((height, width), \n",
    "                       np.uint8)\n",
    "    \n",
    "    for j in range(0, height): \n",
    "        for k in range(0, width): \n",
    "            img_lbp[j, k] = lbp_calculated_pixel(neg_data[i], j, k)\n",
    "    \n",
    "    newPath = str(neg_li[i]).split('\\\\')\n",
    "    fileLoc = \"brain_tumor_dataset/preprocess/data_LBP/LBP_no/\"+newPath[3]\n",
    "    cv2.imwrite(fileLoc, img_lbp)"
   ]
  },
  {
   "cell_type": "code",
   "execution_count": null,
   "metadata": {},
   "outputs": [],
   "source": []
  },
  {
   "cell_type": "code",
   "execution_count": null,
   "metadata": {},
   "outputs": [],
   "source": []
  }
 ],
 "metadata": {
  "hide_input": false,
  "kernelspec": {
   "display_name": "Python 3",
   "language": "python",
   "name": "python3"
  },
  "language_info": {
   "codemirror_mode": {
    "name": "ipython",
    "version": 3
   },
   "file_extension": ".py",
   "mimetype": "text/x-python",
   "name": "python",
   "nbconvert_exporter": "python",
   "pygments_lexer": "ipython3",
   "version": "3.8.5"
  },
  "toc": {
   "base_numbering": 1,
   "nav_menu": {},
   "number_sections": true,
   "sideBar": true,
   "skip_h1_title": false,
   "title_cell": "Table of Contents",
   "title_sidebar": "Contents",
   "toc_cell": false,
   "toc_position": {},
   "toc_section_display": true,
   "toc_window_display": false
  },
  "varInspector": {
   "cols": {
    "lenName": 16,
    "lenType": 16,
    "lenVar": 40
   },
   "kernels_config": {
    "python": {
     "delete_cmd_postfix": "",
     "delete_cmd_prefix": "del ",
     "library": "var_list.py",
     "varRefreshCmd": "print(var_dic_list())"
    },
    "r": {
     "delete_cmd_postfix": ") ",
     "delete_cmd_prefix": "rm(",
     "library": "var_list.r",
     "varRefreshCmd": "cat(var_dic_list()) "
    }
   },
   "types_to_exclude": [
    "module",
    "function",
    "builtin_function_or_method",
    "instance",
    "_Feature"
   ],
   "window_display": false
  }
 },
 "nbformat": 4,
 "nbformat_minor": 4
}
